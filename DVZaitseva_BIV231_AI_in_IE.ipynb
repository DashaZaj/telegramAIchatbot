{
  "nbformat": 4,
  "nbformat_minor": 0,
  "metadata": {
    "colab": {
      "provenance": []
    },
    "kernelspec": {
      "name": "python3",
      "display_name": "Python 3"
    },
    "language_info": {
      "name": "python"
    }
  },
  "cells": [
    {
      "cell_type": "code",
      "execution_count": 1,
      "metadata": {
        "colab": {
          "base_uri": "https://localhost:8080/"
        },
        "collapsed": true,
        "id": "oIp1yv41OcPK",
        "outputId": "751e22d7-d08c-4f31-89a4-a92926ea2535"
      },
      "outputs": [
        {
          "output_type": "stream",
          "name": "stdout",
          "text": [
            "Requirement already satisfied: aiogram in /usr/local/lib/python3.11/dist-packages (3.17.0)\n",
            "Requirement already satisfied: aiosqlite in /usr/local/lib/python3.11/dist-packages (0.20.0)\n",
            "Requirement already satisfied: apscheduler in /usr/local/lib/python3.11/dist-packages (3.11.0)\n",
            "Requirement already satisfied: nest_asyncio in /usr/local/lib/python3.11/dist-packages (1.6.0)\n",
            "Requirement already satisfied: aiofiles<24.2,>=23.2.1 in /usr/local/lib/python3.11/dist-packages (from aiogram) (24.1.0)\n",
            "Requirement already satisfied: aiohttp<3.12,>=3.9.0 in /usr/local/lib/python3.11/dist-packages (from aiogram) (3.11.11)\n",
            "Requirement already satisfied: certifi>=2023.7.22 in /usr/local/lib/python3.11/dist-packages (from aiogram) (2024.12.14)\n",
            "Requirement already satisfied: magic-filter<1.1,>=1.0.12 in /usr/local/lib/python3.11/dist-packages (from aiogram) (1.0.12)\n",
            "Requirement already satisfied: pydantic<2.11,>=2.4.1 in /usr/local/lib/python3.11/dist-packages (from aiogram) (2.10.5)\n",
            "Requirement already satisfied: typing-extensions<=5.0,>=4.7.0 in /usr/local/lib/python3.11/dist-packages (from aiogram) (4.12.2)\n",
            "Requirement already satisfied: tzlocal>=3.0 in /usr/local/lib/python3.11/dist-packages (from apscheduler) (5.2)\n",
            "Requirement already satisfied: aiohappyeyeballs>=2.3.0 in /usr/local/lib/python3.11/dist-packages (from aiohttp<3.12,>=3.9.0->aiogram) (2.4.4)\n",
            "Requirement already satisfied: aiosignal>=1.1.2 in /usr/local/lib/python3.11/dist-packages (from aiohttp<3.12,>=3.9.0->aiogram) (1.3.2)\n",
            "Requirement already satisfied: attrs>=17.3.0 in /usr/local/lib/python3.11/dist-packages (from aiohttp<3.12,>=3.9.0->aiogram) (24.3.0)\n",
            "Requirement already satisfied: frozenlist>=1.1.1 in /usr/local/lib/python3.11/dist-packages (from aiohttp<3.12,>=3.9.0->aiogram) (1.5.0)\n",
            "Requirement already satisfied: multidict<7.0,>=4.5 in /usr/local/lib/python3.11/dist-packages (from aiohttp<3.12,>=3.9.0->aiogram) (6.1.0)\n",
            "Requirement already satisfied: propcache>=0.2.0 in /usr/local/lib/python3.11/dist-packages (from aiohttp<3.12,>=3.9.0->aiogram) (0.2.1)\n",
            "Requirement already satisfied: yarl<2.0,>=1.17.0 in /usr/local/lib/python3.11/dist-packages (from aiohttp<3.12,>=3.9.0->aiogram) (1.18.3)\n",
            "Requirement already satisfied: annotated-types>=0.6.0 in /usr/local/lib/python3.11/dist-packages (from pydantic<2.11,>=2.4.1->aiogram) (0.7.0)\n",
            "Requirement already satisfied: pydantic-core==2.27.2 in /usr/local/lib/python3.11/dist-packages (from pydantic<2.11,>=2.4.1->aiogram) (2.27.2)\n",
            "Requirement already satisfied: idna>=2.0 in /usr/local/lib/python3.11/dist-packages (from yarl<2.0,>=1.17.0->aiohttp<3.12,>=3.9.0->aiogram) (3.10)\n"
          ]
        }
      ],
      "source": [
        "!pip install aiogram aiosqlite apscheduler nest_asyncio"
      ]
    },
    {
      "cell_type": "code",
      "source": [
        "!pip install gigachat"
      ],
      "metadata": {
        "colab": {
          "base_uri": "https://localhost:8080/"
        },
        "collapsed": true,
        "id": "eJUKskrGPHOq",
        "outputId": "496f8f9e-574e-45f1-8198-213889bd110c"
      },
      "execution_count": 16,
      "outputs": [
        {
          "output_type": "stream",
          "name": "stdout",
          "text": [
            "Collecting gigachat\n",
            "  Downloading gigachat-0.1.37.post1-py3-none-any.whl.metadata (14 kB)\n",
            "Collecting httpx<=0.27.2 (from gigachat)\n",
            "  Downloading httpx-0.27.2-py3-none-any.whl.metadata (7.1 kB)\n",
            "Requirement already satisfied: pydantic>=1 in /usr/local/lib/python3.11/dist-packages (from gigachat) (2.10.5)\n",
            "Requirement already satisfied: anyio in /usr/local/lib/python3.11/dist-packages (from httpx<=0.27.2->gigachat) (3.7.1)\n",
            "Requirement already satisfied: certifi in /usr/local/lib/python3.11/dist-packages (from httpx<=0.27.2->gigachat) (2024.12.14)\n",
            "Requirement already satisfied: httpcore==1.* in /usr/local/lib/python3.11/dist-packages (from httpx<=0.27.2->gigachat) (1.0.7)\n",
            "Requirement already satisfied: idna in /usr/local/lib/python3.11/dist-packages (from httpx<=0.27.2->gigachat) (3.10)\n",
            "Requirement already satisfied: sniffio in /usr/local/lib/python3.11/dist-packages (from httpx<=0.27.2->gigachat) (1.3.1)\n",
            "Requirement already satisfied: h11<0.15,>=0.13 in /usr/local/lib/python3.11/dist-packages (from httpcore==1.*->httpx<=0.27.2->gigachat) (0.14.0)\n",
            "Requirement already satisfied: annotated-types>=0.6.0 in /usr/local/lib/python3.11/dist-packages (from pydantic>=1->gigachat) (0.7.0)\n",
            "Requirement already satisfied: pydantic-core==2.27.2 in /usr/local/lib/python3.11/dist-packages (from pydantic>=1->gigachat) (2.27.2)\n",
            "Requirement already satisfied: typing-extensions>=4.12.2 in /usr/local/lib/python3.11/dist-packages (from pydantic>=1->gigachat) (4.12.2)\n",
            "Downloading gigachat-0.1.37.post1-py3-none-any.whl (65 kB)\n",
            "\u001b[2K   \u001b[90m━━━━━━━━━━━━━━━━━━━━━━━━━━━━━━━━━━━━━━━━\u001b[0m \u001b[32m65.1/65.1 kB\u001b[0m \u001b[31m5.5 MB/s\u001b[0m eta \u001b[36m0:00:00\u001b[0m\n",
            "\u001b[?25hDownloading httpx-0.27.2-py3-none-any.whl (76 kB)\n",
            "\u001b[2K   \u001b[90m━━━━━━━━━━━━━━━━━━━━━━━━━━━━━━━━━━━━━━━━\u001b[0m \u001b[32m76.4/76.4 kB\u001b[0m \u001b[31m6.2 MB/s\u001b[0m eta \u001b[36m0:00:00\u001b[0m\n",
            "\u001b[?25hInstalling collected packages: httpx, gigachat\n",
            "  Attempting uninstall: httpx\n",
            "    Found existing installation: httpx 0.28.1\n",
            "    Uninstalling httpx-0.28.1:\n",
            "      Successfully uninstalled httpx-0.28.1\n",
            "Successfully installed gigachat-0.1.37.post1 httpx-0.27.2\n"
          ]
        }
      ]
    },
    {
      "cell_type": "code",
      "source": [
        "import nest_asyncio\n",
        "nest_asyncio.apply()"
      ],
      "metadata": {
        "id": "tIQGX8LsOr1f"
      },
      "execution_count": 2,
      "outputs": []
    },
    {
      "cell_type": "code",
      "source": [
        "from google.colab import userdata\n",
        "token = userdata.get('TelegramBot')\n",
        "GigaChatKey = userdata.get('GigaChatKey')"
      ],
      "metadata": {
        "id": "6d6Zj0evOvFR"
      },
      "execution_count": 19,
      "outputs": []
    },
    {
      "cell_type": "code",
      "source": [
        "from gigachat import GigaChat"
      ],
      "metadata": {
        "id": "wrn-8yY7O8gH"
      },
      "execution_count": 17,
      "outputs": []
    },
    {
      "cell_type": "code",
      "source": [
        "from aiogram import Bot, Dispatcher\n",
        "from aiogram.client.default import DefaultBotProperties\n",
        "from aiogram.enums import ParseMode\n",
        "from aiogram.fsm.storage.memory import MemoryStorage\n",
        "from aiogram import Router, F\n",
        "from aiogram.filters import CommandStart, Command, CommandObject\n",
        "from aiogram.types import Message\n",
        "from aiogram.types import KeyboardButton, ReplyKeyboardMarkup, KeyboardButtonPollType\n",
        "from aiogram.utils.keyboard import ReplyKeyboardBuilder\n",
        "from aiogram.types import InlineKeyboardMarkup, InlineKeyboardButton, WebAppInfo\n",
        "from aiogram.utils.keyboard import InlineKeyboardBuilder\n",
        "from aiogram.types import BotCommand, BotCommandScopeDefault\n",
        "from aiogram.types import CallbackQuery\n",
        "from aiogram.utils.chat_action import ChatActionSender\n",
        "from aiogram.types import ReplyKeyboardRemove\n",
        "from aiogram.fsm.context import FSMContext\n",
        "from aiogram.fsm.state import State, StatesGroup\n",
        "from typing import Any, Awaitable, Callable, Dict\n",
        "from aiogram import BaseMiddleware\n",
        "from aiogram.types import TelegramObject\n",
        "from html import escape\n",
        "import asyncio\n",
        "import logging\n",
        "import aiosqlite\n",
        "from apscheduler.schedulers.asyncio import AsyncIOScheduler"
      ],
      "metadata": {
        "id": "v4YZpSQTOwkc"
      },
      "execution_count": 4,
      "outputs": []
    },
    {
      "cell_type": "code",
      "source": [
        "#Определим состояния:\n",
        "class Form(StatesGroup):\n",
        "    choice = State()\n",
        "    books = State()\n",
        "\n",
        "#Включаем логирование\n",
        "logging.basicConfig(force=True, level=logging.INFO, format='%(asctime)s - %(name)s - %(levelname)s - %(message)s')\n",
        "logger = logging.getLogger(__name__)\n",
        "\n",
        "bot = Bot(token=token, default=DefaultBotProperties(parse_mode=ParseMode.HTML))\n",
        "dp = Dispatcher(storage=MemoryStorage())\n",
        "\n",
        "listuser = {}\n",
        "\n",
        "class SomeMiddleware(BaseMiddleware):\n",
        "    async def __call__(\n",
        "        self,\n",
        "        handler: Callable[[TelegramObject, Dict[str, Any]], Awaitable[Any]],\n",
        "        event: TelegramObject,\n",
        "        data: Dict[str, Any]\n",
        "    ) -> Any:\n",
        "        if data['event_update'].message.text not in ('/start', '/info'):\n",
        "            id = data['event_update'].message.chat.id\n",
        "            async with aiosqlite.connect('data.db') as db:\n",
        "                async with db.execute(\"SELECT id FROM users WHERE id = ?\", (id,)) as cursor:\n",
        "                    if await cursor.fetchone() is None:\n",
        "                        await bot.send_message(chat_id=id, text='Вы не зарегистрированы! Зарегистрируйтесь, используя команду /start.')\n",
        "                        return\n",
        "        result = await handler(event, data)\n",
        "        return result\n",
        "\n",
        "async def start_db():\n",
        "    # Подключение к базе данных (если файл не существует, он будет создан)\n",
        "    async with aiosqlite.connect('data.db') as db:\n",
        "        # Создание таблицы, если она не существует\n",
        "        await db.execute('''\n",
        "            CREATE TABLE IF NOT EXISTS users (\n",
        "                id INTEGER NOT NULL PRIMARY KEY,\n",
        "                statusrem BOOLEAN,\n",
        "                name CHAR(100)\n",
        "            )\n",
        "        ''')\n",
        "        await db.commit() # Сохранение изменений\n",
        "        await db.execute('''\n",
        "            CREATE TABLE IF NOT EXISTS books (\n",
        "                id INTEGER NOT NULL PRIMARY KEY,\n",
        "                title CHAR(100),\n",
        "                url char(300)\n",
        "            )\n",
        "        ''')\n",
        "        await db.commit() # Сохранение изменений\n",
        "        i = 0\n",
        "        books = {'https://drive.google.com/file/d/13a_WAY4eb5PyF-ovr6SaC_4p0i1BKPRW/view?usp=sharing': 'Харшман — Развитие нестандартного мышления',\n",
        "                 'https://drive.google.com/file/d/1BIak4wDMX2oMV15Ey6DBj4MlM2ZHx7X7/view?usp=sharing': 'Уемов — Логические ошибки',\n",
        "                 'https://docs.google.com/document/d/1SWjD6QnHcyBZE9jRSf618MN3VQ_WzSsR/edit?usp=sharing&ouid=102921155101912639531&rtpof=true&sd=true':\n",
        "                 'Вуджек — Тренировка ума',\n",
        "                 'https://drive.google.com/file/d/1UuhdNRTgpJbZTNXvBmgIYygtR1o33hba/view?usp=sharing':'Ивин А. А. — Логика',\n",
        "                 'https://drive.google.com/file/d/1r5M5i_gET4EnHR80UPa2lpOEa6AayDQu/view?usp=sharing':'Слоун Пол, Дез Макхейл — Задачи на нестандартное мышление'}\n",
        "        for url in books.keys():\n",
        "            await db.execute('INSERT INTO books (id, title, url) VALUES (?, ?, ?) ON CONFLICT DO NOTHING', (i, books[url], url))\n",
        "            await db.commit()\n",
        "            i += 1\n",
        "        await db.execute('''\n",
        "            CREATE TABLE IF NOT EXISTS books_to_hide (\n",
        "                id_user INTEGER,\n",
        "                id_book INTEGER,\n",
        "                PRIMARY KEY (id_user, id_book)\n",
        "            )\n",
        "        ''')\n",
        "        await db.commit() # Сохранение изменений\n",
        "\n",
        "@dp.message(CommandStart())\n",
        "async def cmd_start(message: Message, state: FSMContext):\n",
        "    async with aiosqlite.connect('data.db') as db:\n",
        "        async with db.execute(\"SELECT id, name FROM users WHERE id = ?\", (message.from_user.id,)) as cursor:\n",
        "            row = await cursor.fetchone()\n",
        "            if row is None:\n",
        "                await message.answer(f'Здравствуйте, {message.from_user.last_name} {message.from_user.first_name}! Вы зарегистрированы')\n",
        "                await message.answer(text='Этот бот задумывался как помощник в развитии логического мышления с применением ИИ и справочной информацией.\\nРеализован был только справочный функционал, в меру сил.\\nБЯМ в лице гигачата задействована для ответов на незапланированные сообщения.\\nМашина состояний есть, но я не до конца поняла, как правильно её реализовать')\n",
        "                await cursor.execute('INSERT INTO users (id, statusrem, name) VALUES (?, ?, ?)',\n",
        "                 (message.from_user.id, False, message.from_user.last_name + ' ' + message.from_user.first_name))\n",
        "                await db.commit()\n",
        "            else:\n",
        "                name = row[1]\n",
        "                await message.answer(f'Привет {name}! Вы уже зарегистрированы!')\n",
        "    await state.set_state(Form.choice)\n",
        "    builder = InlineKeyboardBuilder()\n",
        "    builder.button(text='Книги', callback_data='books')\n",
        "    builder.button(text='Сайты', callback_data='sites')\n",
        "    await message.answer('Выберите действие:', reply_markup=builder.as_markup())\n",
        "\n",
        "@dp.callback_query(F.data == 'books', Form.choice)\n",
        "async def books_lst(call: CallbackQuery, state: FSMContext):\n",
        "    builder = InlineKeyboardBuilder()\n",
        "    builder.button(text='Оставшиеся', callback_data='remain')\n",
        "    builder.button(text='Скрыто', callback_data='hidden')\n",
        "    builder.adjust(1, 1)\n",
        "    await bot.send_message(chat_id=call.from_user.id, text='Вот ваши книги:', reply_markup=builder.as_markup())\n",
        "    await state.set_state(Form.books)\n",
        "\n",
        "@dp.callback_query(F.data == 'sites', Form.choice)\n",
        "async def sites_lst(call: CallbackQuery, state: FSMContext):\n",
        "    builder = InlineKeyboardBuilder()\n",
        "    builder.button(text='Серые клеточки', url='https://www.graycell.ru/index.html')\n",
        "    builder.button(text=\"Ребусы ВИКВИЗ\", url='https://viquiz.ru/theme/visual/rebus/')\n",
        "    builder.button(text='Абсолютно бесполезный сайт', url='https://absite.ru/')\n",
        "    builder.adjust(2, 1)\n",
        "    await bot.send_message(chat_id=call.from_user.id, text='Выберите сайт:', reply_markup=builder.as_markup())\n",
        "\n",
        "@dp.callback_query(F.data == 'remain', Form.books)\n",
        "async def books_lst(call: CallbackQuery, state: FSMContext):\n",
        "    async with aiosqlite.connect('data.db') as db:\n",
        "        async with db.execute(\"SELECT id, title, url FROM books WHERE NOT EXISTS (SELECT id_user FROM books_to_hide WHERE id_book = books.id AND id_user = ?)\",\n",
        "                              (call.from_user.id,)) as cursor:\n",
        "            table = await cursor.fetchall()\n",
        "            if len(table) == 0:\n",
        "                msg = await bot.send_message(chat_id=call.from_user.id, text='Вы всё прочитали)')\n",
        "            else:\n",
        "                builder = InlineKeyboardBuilder()\n",
        "                for row in table:\n",
        "                    builder.button(text=row[1], url=row[2])\n",
        "                builder.adjust(1, 1, 1, 1, 1, 1)\n",
        "                msg = await bot.send_message(chat_id=call.from_user.id, text='Список непрочитанных книг:', reply_markup=builder.as_markup())\n",
        "            await asyncio.sleep(30)\n",
        "            await msg.delete()\n",
        "    await state.clear()\n",
        "\n",
        "@dp.callback_query(F.data == 'hidden', Form.books)\n",
        "async def books_lst(call: CallbackQuery, state: FSMContext):\n",
        "    async with aiosqlite.connect('data.db') as db:\n",
        "        async with db.execute(\"SELECT id, title, url FROM books WHERE EXISTS (SELECT id_user FROM books_to_hide WHERE id_book = books.id AND id_user = ?)\",\n",
        "                              (call.from_user.id,)) as cursor:\n",
        "            table = await cursor.fetchall()\n",
        "            if len(table) == 0:\n",
        "                msg = await bot.send_message(chat_id=call.from_user.id, text='Тут ничего нет')\n",
        "            else:\n",
        "                builder = InlineKeyboardBuilder()\n",
        "                for row in table:\n",
        "                    builder.button(text=row[1], url=row[2])\n",
        "                builder.adjust(1, 1, 1, 1, 1)\n",
        "                msg = await bot.send_message(chat_id=call.from_user.id, text='Список скрытых книг:', reply_markup=builder.as_markup())\n",
        "            await asyncio.sleep(30)\n",
        "            await msg.delete()\n",
        "    await state.clear()\n",
        "\n",
        "@dp.message(Command('info'))\n",
        "async def cmd_info(message: Message, state: FSMContext):\n",
        "    await bot.send_message(chat_id=message.from_user.id,\n",
        "    text='Этот бот задумывался как помощник в развитии логического мышления с применением ИИ и справочной информацией.\\nРеализован был только справочный функционал, в меру сил. Например, списков книг два, но перенос из одного в другой не реализован.\\nБЯМ в лице гигачата задействована для ответов на незапланированные сообщения.\\nМашина состояний есть, но я не до конца поняла, как правильно её реализовать')\n",
        "\n",
        "async def start_bot():\n",
        "    commands = [BotCommand(command='start', description='Начало работы'),\n",
        "                BotCommand(command='info', description='О боте'),]\n",
        "    await bot.set_my_commands(commands, BotCommandScopeDefault())\n",
        "\n",
        "@dp.message()\n",
        "async def prtext(message: Message, state: FSMContext):\n",
        "    with GigaChat(credentials=GigaChatKey, verify_ssl_certs=False) as giga:\n",
        "        response = giga.chat('Ты — чат-бот для развития логического мышления пользователей. Ответь на сообщение одного из них: '+message.text)\n",
        "        await message.answer(response.choices[0].message.content)\n",
        "\n",
        "async def main(): #Основная асинхронная функция, которая будет запускаться при старте бота.\n",
        "    #scheduler = AsyncIOScheduler(timezone='Europe/Moscow')\n",
        "    #job = scheduler.add_job(send_msg, 'interval', seconds=10, args=(dp,))\n",
        "    #scheduler.start()\n",
        "    dp.message.outer_middleware(SomeMiddleware())\n",
        "    dp.startup.register(start_db)\n",
        "    dp.startup.register(start_bot)\n",
        "    try:\n",
        "      print(\"Бот запущен...\")\n",
        "      await bot.delete_webhook(drop_pending_updates=True)\n",
        "      await dp.start_polling(bot, allowed_updates=dp.resolve_used_update_types()) #запускаем бота в режиме опроса (polling). Бот начинает непрерывно запрашивать обновления с сервера Telegram и обрабатывать их\n",
        "    finally:\n",
        "      #scheduler.remove_job(job.id)\n",
        "      await bot.session.close()\n",
        "      print(\"Бот остановлен\")\n",
        "\n",
        "asyncio.run(main())"
      ],
      "metadata": {
        "colab": {
          "base_uri": "https://localhost:8080/"
        },
        "id": "GUsrazHvO3_w",
        "outputId": "aa885dbf-bf61-4000-f2de-1eee49876c4e"
      },
      "execution_count": 26,
      "outputs": [
        {
          "output_type": "stream",
          "name": "stdout",
          "text": [
            "Бот запущен...\n"
          ]
        },
        {
          "output_type": "stream",
          "name": "stderr",
          "text": [
            "2025-01-22 18:43:58,729 - aiogram.dispatcher - INFO - Start polling\n",
            "2025-01-22 18:43:58,831 - aiogram.dispatcher - INFO - Run polling for bot @eh_he_bot id=5568556426 - 'test_bot'\n",
            "2025-01-22 18:44:02,462 - aiogram.event - INFO - Update id=130927598 is handled. Duration 751 ms by bot id=5568556426\n",
            "2025-01-22 18:44:09,890 - aiogram.dispatcher - WARNING - Received SIGINT signal\n",
            "2025-01-22 18:44:09,894 - aiogram.dispatcher - INFO - Polling stopped for bot @eh_he_bot id=5568556426 - 'test_bot'\n",
            "2025-01-22 18:44:09,896 - aiogram.dispatcher - INFO - Polling stopped\n"
          ]
        },
        {
          "output_type": "stream",
          "name": "stdout",
          "text": [
            "Бот остановлен\n"
          ]
        }
      ]
    }
  ]
}